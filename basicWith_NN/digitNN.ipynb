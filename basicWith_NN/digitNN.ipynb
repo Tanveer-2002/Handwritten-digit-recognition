{
 "cells": [
  {
   "cell_type": "markdown",
   "id": "128261e0",
   "metadata": {},
   "source": [
    "### Loading Training Data and Testing Data"
   ]
  },
  {
   "cell_type": "code",
   "execution_count": 57,
   "id": "35381371",
   "metadata": {},
   "outputs": [],
   "source": [
    "import numpy as np\n",
    "import matplotlib.pyplot as plt\n",
    "from tensorflow import keras\n",
    "from keras.datasets import mnist\n",
    "\n",
    "(trainingData,trainingLabel),(testingData,testingLabel) = mnist.load_data()"
   ]
  },
  {
   "cell_type": "markdown",
   "id": "f8913977",
   "metadata": {},
   "source": [
    "### Reshaping the dataset to fit in the input layer"
   ]
  },
  {
   "cell_type": "markdown",
   "id": "fb9147a1",
   "metadata": {},
   "source": [
    "Reshaping the 60000,28X28px image data to 60000, 28*28 = 784"
   ]
  },
  {
   "cell_type": "code",
   "execution_count": 58,
   "id": "27373b62",
   "metadata": {},
   "outputs": [],
   "source": [
    "trainingData = trainingData.reshape(60000,784)/255.0\n",
    "testingData = testingData.reshape(10000,784)/255.0"
   ]
  },
  {
   "cell_type": "markdown",
   "id": "ab45f10a",
   "metadata": {},
   "source": [
    "Reshaping the Label (row to column)"
   ]
  },
  {
   "cell_type": "code",
   "execution_count": 59,
   "id": "cad9296a",
   "metadata": {},
   "outputs": [],
   "source": [
    "trainingLabel = trainingLabel.reshape(60000,1)\n",
    "testingLabel = testingLabel.reshape(10000,1)"
   ]
  },
  {
   "cell_type": "markdown",
   "id": "4b4ab8a8",
   "metadata": {},
   "source": [
    "### Encoding the labels"
   ]
  },
  {
   "cell_type": "code",
   "execution_count": 60,
   "id": "f0dd6cd4",
   "metadata": {},
   "outputs": [],
   "source": [
    "from sklearn.preprocessing import OneHotEncoder\n",
    "\n",
    "encoder = OneHotEncoder(sparse_output=False)\n",
    "\n",
    "trainLabelEn = encoder.fit_transform(trainingLabel)\n",
    "testLavelEn = encoder.fit_transform(testingLabel)\n"
   ]
  },
  {
   "cell_type": "markdown",
   "id": "6ea7e778",
   "metadata": {},
   "source": [
    "### Defining Numer of neurons each layer"
   ]
  },
  {
   "cell_type": "code",
   "execution_count": 61,
   "id": "85f27c30",
   "metadata": {},
   "outputs": [],
   "source": [
    "inputLyr = 784\n",
    "hiddenLyr1 = 256\n",
    "hiddenLyr2 = 128\n",
    "hiddenLyr3 = 64\n",
    "outputLyr = 10"
   ]
  },
  {
   "cell_type": "markdown",
   "id": "41e8e1ba",
   "metadata": {},
   "source": [
    "### Initialize weights and biases"
   ]
  },
  {
   "cell_type": "code",
   "execution_count": 62,
   "id": "cc205215",
   "metadata": {},
   "outputs": [],
   "source": [
    "np.random.seed(42)\n",
    "w1 = np.random.randn(inputLyr,hiddenLyr1)*0.01\n",
    "b1 = np.zeros((1,hiddenLyr1))\n",
    "\n",
    "w2 = np.random.randn(hiddenLyr1,hiddenLyr2)*0.01\n",
    "b2 = np.zeros((1,hiddenLyr2))\n",
    "\n",
    "w3 = np.random.rand(hiddenLyr2,hiddenLyr3)*0.01\n",
    "b3 = np.zeros((1,hiddenLyr3))\n",
    "\n",
    "w4 = np.random.randn(hiddenLyr3,outputLyr)*0.01\n",
    "b4 = np.zeros((1,outputLyr))\n",
    "\n"
   ]
  },
  {
   "cell_type": "markdown",
   "id": "8f48457c",
   "metadata": {},
   "source": [
    "### Activesion Functions"
   ]
  },
  {
   "cell_type": "code",
   "execution_count": 63,
   "id": "bdb61ccf",
   "metadata": {},
   "outputs": [],
   "source": [
    "def relu(x):\n",
    "    return np.maximum(0,x)\n",
    "\n",
    "def relu_derivative(x):\n",
    "    return (x > 0).astype(float)\n",
    "\n",
    "def softmax(z):\n",
    "    exp = np.exp(z - np.max(z, axis=1, keepdims=True))\n",
    "    return exp / np.sum(exp, axis=1, keepdims=True)\n",
    "\n",
    "def loss(actualLabel,pradictedLabel):\n",
    "    return -np.mean(np.sum(actualLabel*np.log(pradictedLabel + 1e-8), axis=1))\n",
    "\n",
    "def accu():\n",
    "    z1_test = np.dot(testingData, w1) + b1\n",
    "    r1_test = relu(z1_test)\n",
    "       \n",
    "    z2_test = np.dot(r1_test, w2) + b2\n",
    "    r2_test = relu(z2_test)\n",
    "        \n",
    "    z3_test = np.dot(r2_test,w3) + b3\n",
    "    r3_test = relu(z3_test)\n",
    "        \n",
    "    z4_test = np.dot(r3_test,w4) + b4\n",
    "    r4_test = softmax(z4_test)\n",
    "    # Predictions and accuracy\n",
    "    predictions = np.argmax(r4_test, axis=1)\n",
    "    accuracy = np.mean(predictions == testingLabel.flatten())\n",
    "    \n",
    "    return accuracy * 100\n"
   ]
  },
  {
   "cell_type": "markdown",
   "id": "3c6ce94d",
   "metadata": {},
   "source": [
    "### Hyperparameters"
   ]
  },
  {
   "cell_type": "code",
   "execution_count": 64,
   "id": "761c0d7e",
   "metadata": {},
   "outputs": [],
   "source": [
    "learnRate = 0.1\n",
    "epochNum = 30\n",
    "batchSize = 300\n",
    "batchesNum = trainingData.shape[0] // batchSize"
   ]
  },
  {
   "cell_type": "markdown",
   "id": "512221c3",
   "metadata": {},
   "source": [
    "### Accuracy and loss record"
   ]
  },
  {
   "cell_type": "code",
   "execution_count": 65,
   "id": "9b7ff572",
   "metadata": {},
   "outputs": [],
   "source": [
    "accuRecord = []\n",
    "lossRecord = []"
   ]
  },
  {
   "cell_type": "markdown",
   "id": "6e86c6ef",
   "metadata": {},
   "source": [
    "### Training"
   ]
  },
  {
   "cell_type": "code",
   "execution_count": 66,
   "id": "103408d8",
   "metadata": {},
   "outputs": [
    {
     "name": "stdout",
     "output_type": "stream",
     "text": [
      "Training Start:\n",
      "epoch no: 1 and Loss: 2.302  Accuracy: 11.35%\n",
      "epoch no: 2 and Loss: 2.301  Accuracy: 11.35%\n",
      "epoch no: 3 and Loss: 2.301  Accuracy: 11.35%\n",
      "epoch no: 4 and Loss: 2.298  Accuracy: 22.15%\n",
      "epoch no: 5 and Loss: 2.070  Accuracy: 25.79%\n",
      "epoch no: 6 and Loss: 1.779  Accuracy: 30.07%\n",
      "epoch no: 7 and Loss: 1.643  Accuracy: 36.31%\n",
      "epoch no: 8 and Loss: 1.532  Accuracy: 40.72%\n",
      "epoch no: 9 and Loss: 1.429  Accuracy: 41.24%\n",
      "epoch no: 10 and Loss: 1.298  Accuracy: 49.88%\n",
      "epoch no: 11 and Loss: 1.094  Accuracy: 58.92%\n",
      "epoch no: 12 and Loss: 0.911  Accuracy: 66.63%\n",
      "epoch no: 13 and Loss: 0.725  Accuracy: 81.32%\n",
      "epoch no: 14 and Loss: 0.522  Accuracy: 89.78%\n",
      "epoch no: 15 and Loss: 0.359  Accuracy: 93.74%\n",
      "epoch no: 16 and Loss: 0.241  Accuracy: 94.60%\n",
      "epoch no: 17 and Loss: 0.186  Accuracy: 95.44%\n",
      "epoch no: 18 and Loss: 0.147  Accuracy: 95.88%\n",
      "epoch no: 19 and Loss: 0.126  Accuracy: 95.85%\n",
      "epoch no: 20 and Loss: 0.113  Accuracy: 96.23%\n",
      "epoch no: 21 and Loss: 0.097  Accuracy: 96.48%\n",
      "epoch no: 22 and Loss: 0.087  Accuracy: 96.56%\n",
      "epoch no: 23 and Loss: 0.076  Accuracy: 96.43%\n",
      "epoch no: 24 and Loss: 0.068  Accuracy: 96.71%\n",
      "epoch no: 25 and Loss: 0.061  Accuracy: 96.78%\n",
      "epoch no: 26 and Loss: 0.055  Accuracy: 96.82%\n",
      "epoch no: 27 and Loss: 0.050  Accuracy: 94.83%\n",
      "epoch no: 28 and Loss: 0.044  Accuracy: 96.58%\n",
      "epoch no: 29 and Loss: 0.038  Accuracy: 97.03%\n",
      "epoch no: 30 and Loss: 0.034  Accuracy: 96.99%\n",
      "Training End\n"
     ]
    }
   ],
   "source": [
    "print(\"Training Start:\")\n",
    "for epoch in range(epochNum):\n",
    "    \n",
    "    totalLoss = 0\n",
    "\n",
    "    reOrder = np.random.permutation(trainingData.shape[0])\n",
    "    trainingDataReorder = trainingData[reOrder]\n",
    "    trainingLabelEnReorder = trainLabelEn[reOrder]\n",
    "    \n",
    "    for i in range(batchesNum):\n",
    "        start = i * batchSize\n",
    "        end = start + batchSize\n",
    "        batchData = trainingDataReorder[start:end]\n",
    "        batchLabel = trainingLabelEnReorder[start:end]\n",
    "\n",
    "        z1 = np.dot(batchData, w1) + b1\n",
    "        r1 = relu(z1)\n",
    "       \n",
    "        z2 = np.dot(r1, w2) + b2\n",
    "        r2 = relu(z2)\n",
    "        \n",
    "        z3 = np.dot(r2,w3) + b3\n",
    "        r3 = relu(z3)\n",
    "        \n",
    "        z4 = np.dot(r3,w4) + b4\n",
    "        r4 = softmax(z4)\n",
    "\n",
    "        batchLoss = loss(batchLabel, r4)\n",
    "        totalLoss += batchLoss\n",
    "\n",
    "        dz4 = r4 - batchLabel\n",
    "        dw4 = np.dot(r3.T, dz4) / batchSize\n",
    "        db4 = np.mean(dz4, axis= 0, keepdims= True)\n",
    "\n",
    "        da3 = np.dot(dz4,w4.T)\n",
    "        dz3 = da3 * relu_derivative(z3) \n",
    "        dw3 = np.dot(r2.T, dz3) / batchSize\n",
    "        db3 = np.mean(dz3, axis=0, keepdims=True)\n",
    "\n",
    "        da2 = np.dot(dz3, w3.T)\n",
    "        dz2 = da2 * relu_derivative(z2)\n",
    "        dw2 = np.dot(r1.T,dz2) / batchSize\n",
    "        db2 = np.mean(dz2, axis=0, keepdims=True)\n",
    "\n",
    "        da1 = np.dot(dz2,w2.T)\n",
    "        dz1 = da1 * relu_derivative(z1)\n",
    "        dw1 = np.dot(batchData.T,dz1)/ batchSize\n",
    "        db1 = np.mean(dz1,axis=0, keepdims=True)\n",
    "        \n",
    "       \n",
    "        w4 -= learnRate * dw4\n",
    "        b4 -= learnRate * db4\n",
    "\n",
    "        w3 -= learnRate * dw3\n",
    "        b3 -= learnRate * db3\n",
    "\n",
    "        w2 -= learnRate * dw2\n",
    "        b2 -= learnRate * db2\n",
    "\n",
    "        w1 -= learnRate * dw1\n",
    "        b1 -= learnRate * db1\n",
    "\n",
    "    avg_loss = totalLoss / batchesNum\n",
    "    accuracy = accu()\n",
    "    print(f\"epoch no: {epoch+1} and Loss: {avg_loss:.3f}  Accuracy: {accuracy:.2f}%\")  \n",
    "    accuRecord.append(accuracy)\n",
    "    lossRecord.append(avg_loss)\n",
    "\n",
    "print(\"Training End\")"
   ]
  },
  {
   "cell_type": "markdown",
   "id": "da49383e",
   "metadata": {},
   "source": [
    "### Ploting (Accuracy & Loss) vs (Epoch)"
   ]
  },
  {
   "cell_type": "code",
   "execution_count": 67,
   "id": "b2bb43db",
   "metadata": {},
   "outputs": [
    {
     "data": {
      "image/png": "[encoded data removed]",
      "text/plain": [
       "<Figure size 640x480 with 1 Axes>"
      ]
     },
     "metadata": {},
     "output_type": "display_data"
    }
   ],
   "source": [
    "\n",
    "x = np.arange(0,epochNum,1)\n",
    "y = accuRecord\n",
    "z= lossRecord \n",
    "\n",
    "plt.plot(x,y,'g')\n",
    "plt.plot(x,z,'r')\n",
    "plt.xlabel(\"Epoch\")\n",
    "plt.ylabel(\"Accuracy & Loss\")\n",
    "plt.legend([\"Accuracy\",\"Loss\"])\n",
    "plt.show()\n"
   ]
  }
 ],
 "metadata": {
  "kernelspec": {
   "display_name": "Python 3",
   "language": "python",
   "name": "python3"
  },
  "language_info": {
   "codemirror_mode": {
    "name": "ipython",
    "version": 3
   },
   "file_extension": ".py",
   "mimetype": "text/x-python",
   "name": "python",
   "nbconvert_exporter": "python",
   "pygments_lexer": "ipython3",
   "version": "3.11.0"
  }
 },
 "nbformat": 4,
 "nbformat_minor": 5
}
